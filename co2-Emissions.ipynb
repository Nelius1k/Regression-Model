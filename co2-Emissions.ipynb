{
 "cells": [
  {
   "cell_type": "markdown",
   "metadata": {},
   "source": [
    "## 1- Look at the big picture and frame the problem."
   ]
  },
  {
   "cell_type": "code",
   "execution_count": null,
   "metadata": {},
   "outputs": [],
   "source": [
    "# Install require library\n",
    "%pip install opendatasets"
   ]
  },
  {
   "cell_type": "code",
   "execution_count": 1,
   "metadata": {},
   "outputs": [],
   "source": [
    "# Import libraries\n",
    "\n",
    "import sklearn\n",
    "import numpy as np\n",
    "import pandas as pd\n",
    "import matplotlib.pyplot as plt\n",
    "import seaborn as sns\n",
    "import opendatasets as od"
   ]
  },
  {
   "cell_type": "markdown",
   "metadata": {},
   "source": [
    "## 2- Load the dataset"
   ]
  },
  {
   "cell_type": "code",
   "execution_count": 2,
   "metadata": {},
   "outputs": [
    {
     "name": "stdout",
     "output_type": "stream",
     "text": [
      "Downloading co2-emission-by-countries-year-wise-17502022.zip to ./co2-emission-by-countries-year-wise-17502022\n"
     ]
    },
    {
     "name": "stderr",
     "output_type": "stream",
     "text": [
      "100%|██████████| 280k/280k [00:00<00:00, 943kB/s]"
     ]
    },
    {
     "name": "stdout",
     "output_type": "stream",
     "text": [
      "\n"
     ]
    },
    {
     "name": "stderr",
     "output_type": "stream",
     "text": [
      "\n"
     ]
    }
   ],
   "source": [
    "# Download the dataset\n",
    "url = \"https://www.kaggle.com/datasets/moazzimalibhatti/co2-emission-by-countries-year-wise-17502022\"\n",
    "od.download(url)"
   ]
  },
  {
   "cell_type": "code",
   "execution_count": 10,
   "metadata": {},
   "outputs": [],
   "source": [
    "# Load the dataset\n",
    "\n",
    "file_path = \"./co2-emission-by-countries-year-wise-17502022/CO2 emission by countries.csv\"\n",
    "countries_emissions = pd.read_csv(file_path, encoding='latin1')"
   ]
  },
  {
   "cell_type": "markdown",
   "metadata": {},
   "source": [
    "### 2.1 Look at the data structure"
   ]
  },
  {
   "cell_type": "code",
   "execution_count": 11,
   "metadata": {},
   "outputs": [
    {
     "data": {
      "text/html": [
       "<div>\n",
       "<style scoped>\n",
       "    .dataframe tbody tr th:only-of-type {\n",
       "        vertical-align: middle;\n",
       "    }\n",
       "\n",
       "    .dataframe tbody tr th {\n",
       "        vertical-align: top;\n",
       "    }\n",
       "\n",
       "    .dataframe thead th {\n",
       "        text-align: right;\n",
       "    }\n",
       "</style>\n",
       "<table border=\"1\" class=\"dataframe\">\n",
       "  <thead>\n",
       "    <tr style=\"text-align: right;\">\n",
       "      <th></th>\n",
       "      <th>Country</th>\n",
       "      <th>Code</th>\n",
       "      <th>Calling Code</th>\n",
       "      <th>Year</th>\n",
       "      <th>CO2 emission (Tons)</th>\n",
       "      <th>Population(2022)</th>\n",
       "      <th>Area</th>\n",
       "      <th>% of World</th>\n",
       "      <th>Density(km2)</th>\n",
       "    </tr>\n",
       "  </thead>\n",
       "  <tbody>\n",
       "    <tr>\n",
       "      <th>0</th>\n",
       "      <td>Afghanistan</td>\n",
       "      <td>AF</td>\n",
       "      <td>93</td>\n",
       "      <td>1750</td>\n",
       "      <td>0.0</td>\n",
       "      <td>41128771.0</td>\n",
       "      <td>652230.0</td>\n",
       "      <td>0.40%</td>\n",
       "      <td>63/km²</td>\n",
       "    </tr>\n",
       "    <tr>\n",
       "      <th>1</th>\n",
       "      <td>Afghanistan</td>\n",
       "      <td>AF</td>\n",
       "      <td>93</td>\n",
       "      <td>1751</td>\n",
       "      <td>0.0</td>\n",
       "      <td>41128771.0</td>\n",
       "      <td>652230.0</td>\n",
       "      <td>0.40%</td>\n",
       "      <td>63/km²</td>\n",
       "    </tr>\n",
       "    <tr>\n",
       "      <th>2</th>\n",
       "      <td>Afghanistan</td>\n",
       "      <td>AF</td>\n",
       "      <td>93</td>\n",
       "      <td>1752</td>\n",
       "      <td>0.0</td>\n",
       "      <td>41128771.0</td>\n",
       "      <td>652230.0</td>\n",
       "      <td>0.40%</td>\n",
       "      <td>63/km²</td>\n",
       "    </tr>\n",
       "    <tr>\n",
       "      <th>3</th>\n",
       "      <td>Afghanistan</td>\n",
       "      <td>AF</td>\n",
       "      <td>93</td>\n",
       "      <td>1753</td>\n",
       "      <td>0.0</td>\n",
       "      <td>41128771.0</td>\n",
       "      <td>652230.0</td>\n",
       "      <td>0.40%</td>\n",
       "      <td>63/km²</td>\n",
       "    </tr>\n",
       "    <tr>\n",
       "      <th>4</th>\n",
       "      <td>Afghanistan</td>\n",
       "      <td>AF</td>\n",
       "      <td>93</td>\n",
       "      <td>1754</td>\n",
       "      <td>0.0</td>\n",
       "      <td>41128771.0</td>\n",
       "      <td>652230.0</td>\n",
       "      <td>0.40%</td>\n",
       "      <td>63/km²</td>\n",
       "    </tr>\n",
       "    <tr>\n",
       "      <th>...</th>\n",
       "      <td>...</td>\n",
       "      <td>...</td>\n",
       "      <td>...</td>\n",
       "      <td>...</td>\n",
       "      <td>...</td>\n",
       "      <td>...</td>\n",
       "      <td>...</td>\n",
       "      <td>...</td>\n",
       "      <td>...</td>\n",
       "    </tr>\n",
       "    <tr>\n",
       "      <th>59615</th>\n",
       "      <td>Zimbabwe</td>\n",
       "      <td>ZW</td>\n",
       "      <td>263</td>\n",
       "      <td>2016</td>\n",
       "      <td>736467042.0</td>\n",
       "      <td>16320537.0</td>\n",
       "      <td>390757.0</td>\n",
       "      <td>0.30%</td>\n",
       "      <td>42/km²</td>\n",
       "    </tr>\n",
       "    <tr>\n",
       "      <th>59616</th>\n",
       "      <td>Zimbabwe</td>\n",
       "      <td>ZW</td>\n",
       "      <td>263</td>\n",
       "      <td>2017</td>\n",
       "      <td>746048675.0</td>\n",
       "      <td>16320537.0</td>\n",
       "      <td>390757.0</td>\n",
       "      <td>0.30%</td>\n",
       "      <td>42/km²</td>\n",
       "    </tr>\n",
       "    <tr>\n",
       "      <th>59617</th>\n",
       "      <td>Zimbabwe</td>\n",
       "      <td>ZW</td>\n",
       "      <td>263</td>\n",
       "      <td>2018</td>\n",
       "      <td>757903042.0</td>\n",
       "      <td>16320537.0</td>\n",
       "      <td>390757.0</td>\n",
       "      <td>0.30%</td>\n",
       "      <td>42/km²</td>\n",
       "    </tr>\n",
       "    <tr>\n",
       "      <th>59618</th>\n",
       "      <td>Zimbabwe</td>\n",
       "      <td>ZW</td>\n",
       "      <td>263</td>\n",
       "      <td>2019</td>\n",
       "      <td>768852126.0</td>\n",
       "      <td>16320537.0</td>\n",
       "      <td>390757.0</td>\n",
       "      <td>0.30%</td>\n",
       "      <td>42/km²</td>\n",
       "    </tr>\n",
       "    <tr>\n",
       "      <th>59619</th>\n",
       "      <td>Zimbabwe</td>\n",
       "      <td>ZW</td>\n",
       "      <td>263</td>\n",
       "      <td>2020</td>\n",
       "      <td>779383468.0</td>\n",
       "      <td>16320537.0</td>\n",
       "      <td>390757.0</td>\n",
       "      <td>0.30%</td>\n",
       "      <td>42/km²</td>\n",
       "    </tr>\n",
       "  </tbody>\n",
       "</table>\n",
       "<p>59620 rows × 9 columns</p>\n",
       "</div>"
      ],
      "text/plain": [
       "           Country Code Calling Code  Year  CO2 emission (Tons)  \\\n",
       "0      Afghanistan   AF           93  1750                  0.0   \n",
       "1      Afghanistan   AF           93  1751                  0.0   \n",
       "2      Afghanistan   AF           93  1752                  0.0   \n",
       "3      Afghanistan   AF           93  1753                  0.0   \n",
       "4      Afghanistan   AF           93  1754                  0.0   \n",
       "...            ...  ...          ...   ...                  ...   \n",
       "59615     Zimbabwe   ZW          263  2016          736467042.0   \n",
       "59616     Zimbabwe   ZW          263  2017          746048675.0   \n",
       "59617     Zimbabwe   ZW          263  2018          757903042.0   \n",
       "59618     Zimbabwe   ZW          263  2019          768852126.0   \n",
       "59619     Zimbabwe   ZW          263  2020          779383468.0   \n",
       "\n",
       "       Population(2022)      Area % of World Density(km2)  \n",
       "0            41128771.0  652230.0      0.40%       63/km²  \n",
       "1            41128771.0  652230.0      0.40%       63/km²  \n",
       "2            41128771.0  652230.0      0.40%       63/km²  \n",
       "3            41128771.0  652230.0      0.40%       63/km²  \n",
       "4            41128771.0  652230.0      0.40%       63/km²  \n",
       "...                 ...       ...        ...          ...  \n",
       "59615        16320537.0  390757.0      0.30%       42/km²  \n",
       "59616        16320537.0  390757.0      0.30%       42/km²  \n",
       "59617        16320537.0  390757.0      0.30%       42/km²  \n",
       "59618        16320537.0  390757.0      0.30%       42/km²  \n",
       "59619        16320537.0  390757.0      0.30%       42/km²  \n",
       "\n",
       "[59620 rows x 9 columns]"
      ]
     },
     "execution_count": 11,
     "metadata": {},
     "output_type": "execute_result"
    }
   ],
   "source": [
    "countries_emissions"
   ]
  },
  {
   "cell_type": "code",
   "execution_count": 12,
   "metadata": {},
   "outputs": [
    {
     "data": {
      "text/html": [
       "<div>\n",
       "<style scoped>\n",
       "    .dataframe tbody tr th:only-of-type {\n",
       "        vertical-align: middle;\n",
       "    }\n",
       "\n",
       "    .dataframe tbody tr th {\n",
       "        vertical-align: top;\n",
       "    }\n",
       "\n",
       "    .dataframe thead th {\n",
       "        text-align: right;\n",
       "    }\n",
       "</style>\n",
       "<table border=\"1\" class=\"dataframe\">\n",
       "  <thead>\n",
       "    <tr style=\"text-align: right;\">\n",
       "      <th></th>\n",
       "      <th>Year</th>\n",
       "      <th>CO2 emission (Tons)</th>\n",
       "      <th>Population(2022)</th>\n",
       "      <th>Area</th>\n",
       "    </tr>\n",
       "  </thead>\n",
       "  <tbody>\n",
       "    <tr>\n",
       "      <th>count</th>\n",
       "      <td>59620.000000</td>\n",
       "      <td>5.962000e+04</td>\n",
       "      <td>5.311600e+04</td>\n",
       "      <td>5.528400e+04</td>\n",
       "    </tr>\n",
       "    <tr>\n",
       "      <th>mean</th>\n",
       "      <td>1885.000000</td>\n",
       "      <td>1.034774e+09</td>\n",
       "      <td>3.992260e+07</td>\n",
       "      <td>6.522073e+05</td>\n",
       "    </tr>\n",
       "    <tr>\n",
       "      <th>std</th>\n",
       "      <td>78.231085</td>\n",
       "      <td>1.041652e+10</td>\n",
       "      <td>1.482365e+08</td>\n",
       "      <td>1.865483e+06</td>\n",
       "    </tr>\n",
       "    <tr>\n",
       "      <th>min</th>\n",
       "      <td>1750.000000</td>\n",
       "      <td>0.000000e+00</td>\n",
       "      <td>1.131200e+04</td>\n",
       "      <td>2.100000e+01</td>\n",
       "    </tr>\n",
       "    <tr>\n",
       "      <th>25%</th>\n",
       "      <td>1817.000000</td>\n",
       "      <td>0.000000e+00</td>\n",
       "      <td>1.770414e+06</td>\n",
       "      <td>1.770450e+04</td>\n",
       "    </tr>\n",
       "    <tr>\n",
       "      <th>50%</th>\n",
       "      <td>1885.000000</td>\n",
       "      <td>0.000000e+00</td>\n",
       "      <td>8.673095e+06</td>\n",
       "      <td>1.103815e+05</td>\n",
       "    </tr>\n",
       "    <tr>\n",
       "      <th>75%</th>\n",
       "      <td>1953.000000</td>\n",
       "      <td>8.715092e+06</td>\n",
       "      <td>2.862920e+07</td>\n",
       "      <td>4.925730e+05</td>\n",
       "    </tr>\n",
       "    <tr>\n",
       "      <th>max</th>\n",
       "      <td>2020.000000</td>\n",
       "      <td>4.170000e+11</td>\n",
       "      <td>1.425887e+09</td>\n",
       "      <td>1.709824e+07</td>\n",
       "    </tr>\n",
       "  </tbody>\n",
       "</table>\n",
       "</div>"
      ],
      "text/plain": [
       "               Year  CO2 emission (Tons)  Population(2022)          Area\n",
       "count  59620.000000         5.962000e+04      5.311600e+04  5.528400e+04\n",
       "mean    1885.000000         1.034774e+09      3.992260e+07  6.522073e+05\n",
       "std       78.231085         1.041652e+10      1.482365e+08  1.865483e+06\n",
       "min     1750.000000         0.000000e+00      1.131200e+04  2.100000e+01\n",
       "25%     1817.000000         0.000000e+00      1.770414e+06  1.770450e+04\n",
       "50%     1885.000000         0.000000e+00      8.673095e+06  1.103815e+05\n",
       "75%     1953.000000         8.715092e+06      2.862920e+07  4.925730e+05\n",
       "max     2020.000000         4.170000e+11      1.425887e+09  1.709824e+07"
      ]
     },
     "execution_count": 12,
     "metadata": {},
     "output_type": "execute_result"
    }
   ],
   "source": [
    "countries_emissions.describe()"
   ]
  },
  {
   "cell_type": "code",
   "execution_count": 13,
   "metadata": {},
   "outputs": [
    {
     "name": "stdout",
     "output_type": "stream",
     "text": [
      "<class 'pandas.core.frame.DataFrame'>\n",
      "RangeIndex: 59620 entries, 0 to 59619\n",
      "Data columns (total 9 columns):\n",
      " #   Column               Non-Null Count  Dtype  \n",
      "---  ------               --------------  -----  \n",
      " 0   Country              59620 non-null  object \n",
      " 1   Code                 57452 non-null  object \n",
      " 2   Calling Code         56097 non-null  object \n",
      " 3   Year                 59620 non-null  int64  \n",
      " 4   CO2 emission (Tons)  59620 non-null  float64\n",
      " 5   Population(2022)     53116 non-null  float64\n",
      " 6   Area                 55284 non-null  float64\n",
      " 7   % of World           55284 non-null  object \n",
      " 8   Density(km2)         53116 non-null  object \n",
      "dtypes: float64(3), int64(1), object(5)\n",
      "memory usage: 4.1+ MB\n"
     ]
    }
   ],
   "source": [
    "# Check the number of non-null values\n",
    "countries_emissions.info()"
   ]
  },
  {
   "cell_type": "markdown",
   "metadata": {},
   "source": [
    "## 3 Clean the data"
   ]
  },
  {
   "cell_type": "code",
   "execution_count": 14,
   "metadata": {},
   "outputs": [
    {
     "data": {
      "text/plain": [
       "0"
      ]
     },
     "execution_count": 14,
     "metadata": {},
     "output_type": "execute_result"
    }
   ],
   "source": [
    "# Check for duplicate values\n",
    "countries_emissions.duplicated().sum()"
   ]
  }
 ],
 "metadata": {
  "kernelspec": {
   "display_name": "base",
   "language": "python",
   "name": "python3"
  },
  "language_info": {
   "codemirror_mode": {
    "name": "ipython",
    "version": 3
   },
   "file_extension": ".py",
   "mimetype": "text/x-python",
   "name": "python",
   "nbconvert_exporter": "python",
   "pygments_lexer": "ipython3",
   "version": "3.11.5"
  }
 },
 "nbformat": 4,
 "nbformat_minor": 2
}
